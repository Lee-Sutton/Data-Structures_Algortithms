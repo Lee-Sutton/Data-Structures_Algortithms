{
 "cells": [
  {
   "cell_type": "markdown",
   "metadata": {},
   "source": [
    "## Randomized Selection (Lecture 1)\n",
    "The goal is to design and analyze a randomized selection method for finding the $i^{th}$ lowest element with $O(n)$ time. \n",
    "\n",
    "### The problem\n",
    "The input is an array of size N and a number ie. $i  \\epsilon {1,2,3,...n}$ \n",
    "\n",
    "Output: the ith order statistic ie. the $i^{th}$ smallest number. \n",
    "\n",
    "An example of this would be to find the median. ie. the N/2 term.\n",
    "\n",
    "### Reduction to sorting\n",
    "$O(nlogn)$\n",
    "1. Apply mergesort\n",
    "2. Return the $i^{th}$ element of the array\n",
    "\n",
    "Fact:\n",
    "Can't sort any faster $O(nlogn)$ - See optional videos for explanation\n",
    "\n",
    "Next:\n",
    "We will see that the randomized selection takes $O(n)$ time to find the $i^{th}$ element. \n",
    "\n",
    "Optional Video:\n",
    "O(n) time deterministic algorithm\n",
    "- Choose the median of means (Warning not as practical)\n",
    "\n",
    "Let's run through the partition subroutine as a review\n",
    "1. Choose pivot\n",
    "2. Move elements that are less than the pivot to the left side and move all elements > the pivot to the right side.\n",
    "3. The puts the pivot in the correct spot \n",
    "\n",
    "Now think: How can we apply this to find the ith element\n",
    "\n",
    "\n",
    "\n"
   ]
  },
  {
   "cell_type": "code",
   "execution_count": null,
   "metadata": {
    "collapsed": true
   },
   "outputs": [],
   "source": []
  }
 ],
 "metadata": {
  "kernelspec": {
   "display_name": "Python 2",
   "language": "python",
   "name": "python2"
  },
  "language_info": {
   "codemirror_mode": {
    "name": "ipython",
    "version": 2
   },
   "file_extension": ".py",
   "mimetype": "text/x-python",
   "name": "python",
   "nbconvert_exporter": "python",
   "pygments_lexer": "ipython2",
   "version": "2.7.10"
  }
 },
 "nbformat": 4,
 "nbformat_minor": 0
}
